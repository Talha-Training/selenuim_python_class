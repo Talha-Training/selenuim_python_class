{
 "cells": [
  {
   "cell_type": "code",
   "execution_count": 13,
   "id": "be1fe4f4",
   "metadata": {},
   "outputs": [],
   "source": [
    "from selenium import webdriver  \n",
    "import time  \n",
    "from selenium.webdriver.common.keys import Keys\n",
    "from selenium.webdriver.common.by import By\n",
    "\n",
    "# initialize Firefox\n",
    "driver = webdriver.Firefox(executable_path='C:\\\\webdriver\\\\geckodriver.exe')\n"
   ]
  },
  {
   "cell_type": "code",
   "execution_count": 14,
   "id": "6205c59a",
   "metadata": {},
   "outputs": [],
   "source": [
    "# relevant websites\n",
    "website_1 = 'https://www.google.com/'\n",
    "website_2 = 'https://talhatraining.com/'"
   ]
  },
  {
   "cell_type": "code",
   "execution_count": 15,
   "id": "5bdaa01b",
   "metadata": {},
   "outputs": [],
   "source": [
    "# open website\n",
    "driver.get(website_2)\n",
    "\n",
    "#maximize window\n",
    "#driver.maximize_window()"
   ]
  },
  {
   "cell_type": "code",
   "execution_count": 16,
   "id": "d768c3f0",
   "metadata": {},
   "outputs": [],
   "source": [
    "# get element \n",
    "element = driver.find_element(By.NAME, 'EMAIL')\n",
    "#element = driver.find_elements_by_name(\"form-add-course-to-cart\")\n",
    "time.sleep(3)  "
   ]
  },
  {
   "cell_type": "code",
   "execution_count": 17,
   "id": "8feaf21a",
   "metadata": {},
   "outputs": [
    {
     "name": "stdout",
     "output_type": "stream",
     "text": [
      "<selenium.webdriver.firefox.webelement.FirefoxWebElement (session=\"a1a1e5d9-2040-4894-952f-b48a0835357c\", element=\"239964b5-a8fa-496a-99bb-1ef2a0175852\")>\n"
     ]
    }
   ],
   "source": [
    "# print complete element\n",
    "print(element)"
   ]
  },
  {
   "cell_type": "code",
   "execution_count": 18,
   "id": "fe0f0114",
   "metadata": {},
   "outputs": [],
   "source": [
    "driver.close()  "
   ]
  },
  {
   "cell_type": "code",
   "execution_count": null,
   "id": "2be70f37",
   "metadata": {},
   "outputs": [],
   "source": []
  }
 ],
 "metadata": {
  "kernelspec": {
   "display_name": "Python 3 (ipykernel)",
   "language": "python",
   "name": "python3"
  },
  "language_info": {
   "codemirror_mode": {
    "name": "ipython",
    "version": 3
   },
   "file_extension": ".py",
   "mimetype": "text/x-python",
   "name": "python",
   "nbconvert_exporter": "python",
   "pygments_lexer": "ipython3",
   "version": "3.11.4"
  }
 },
 "nbformat": 4,
 "nbformat_minor": 5
}
