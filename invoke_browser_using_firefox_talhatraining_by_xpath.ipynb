{
 "cells": [
  {
   "cell_type": "code",
   "execution_count": 10,
   "id": "be1fe4f4",
   "metadata": {},
   "outputs": [],
   "source": [
    "from selenium import webdriver  \n",
    "import time  \n",
    "from selenium.webdriver.common.keys import Keys\n",
    "from selenium.webdriver.common.by import By\n",
    "\n",
    "# initialize Firefox\n",
    "driver = webdriver.Firefox(executable_path='C:\\\\webdriver\\\\geckodriver.exe')\n"
   ]
  },
  {
   "cell_type": "code",
   "execution_count": 11,
   "id": "6205c59a",
   "metadata": {},
   "outputs": [],
   "source": [
    "# relevant websites\n",
    "website_1 = 'https://www.google.com/'\n",
    "website_2 = 'https://talhatraining.com/'"
   ]
  },
  {
   "cell_type": "code",
   "execution_count": 12,
   "id": "5bdaa01b",
   "metadata": {},
   "outputs": [],
   "source": [
    "# open website\n",
    "driver.get(website_2)\n",
    "\n",
    "#maximize window\n",
    "#driver.maximize_window()"
   ]
  },
  {
   "cell_type": "code",
   "execution_count": 13,
   "id": "d768c3f0",
   "metadata": {},
   "outputs": [],
   "source": [
    "# get element \n",
    "#element = driver.find_element(By.XPATH, \"//div[h2/@class='course-title']\")\n",
    "\n",
    "elements = driver.find_elements_by_xpath(\"//div[h2/@class='course-title']\") \n",
    "\n",
    "time.sleep(3)  "
   ]
  },
  {
   "cell_type": "code",
   "execution_count": 14,
   "id": "8feaf21a",
   "metadata": {},
   "outputs": [
    {
     "name": "stdout",
     "output_type": "stream",
     "text": [
      "<selenium.webdriver.firefox.webelement.FirefoxWebElement (session=\"43cc1269-a5f1-4226-9eec-3dd043ff01cf\", element=\"770da7b8-128f-4cf9-870e-59b85432cdd1\")>\n"
     ]
    }
   ],
   "source": [
    "# print complete element\n",
    "print(element)"
   ]
  },
  {
   "cell_type": "code",
   "execution_count": 15,
   "id": "fe0f0114",
   "metadata": {},
   "outputs": [],
   "source": [
    "driver.close()  "
   ]
  },
  {
   "cell_type": "code",
   "execution_count": null,
   "id": "2be70f37",
   "metadata": {},
   "outputs": [],
   "source": []
  }
 ],
 "metadata": {
  "kernelspec": {
   "display_name": "Python 3 (ipykernel)",
   "language": "python",
   "name": "python3"
  },
  "language_info": {
   "codemirror_mode": {
    "name": "ipython",
    "version": 3
   },
   "file_extension": ".py",
   "mimetype": "text/x-python",
   "name": "python",
   "nbconvert_exporter": "python",
   "pygments_lexer": "ipython3",
   "version": "3.11.4"
  }
 },
 "nbformat": 4,
 "nbformat_minor": 5
}
