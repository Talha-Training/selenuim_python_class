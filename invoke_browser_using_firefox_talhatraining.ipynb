{
 "cells": [
  {
   "cell_type": "code",
   "execution_count": 18,
   "id": "be1fe4f4",
   "metadata": {},
   "outputs": [],
   "source": [
    "from selenium import webdriver  \n",
    "import time  \n",
    "from selenium.webdriver.common.keys import Keys\n",
    "from selenium.webdriver.common.by import By\n",
    "\n",
    "# initialize Firefox\n",
    "driver = webdriver.Firefox(executable_path='C:\\\\webdriver\\\\geckodriver.exe')\n"
   ]
  },
  {
   "cell_type": "code",
   "execution_count": 19,
   "id": "6205c59a",
   "metadata": {},
   "outputs": [],
   "source": [
    "# relevant websites\n",
    "website_1 = 'https://www.google.com/'\n",
    "website_2 = 'https://talhatraining.com/'"
   ]
  },
  {
   "cell_type": "code",
   "execution_count": null,
   "id": "5bdaa01b",
   "metadata": {},
   "outputs": [],
   "source": [
    "# open website\n",
    "driver.get(website_2)\n",
    "\n",
    "#maximize window\n",
    "#driver.maximize_window()"
   ]
  },
  {
   "cell_type": "code",
   "execution_count": 11,
   "id": "d768c3f0",
   "metadata": {},
   "outputs": [],
   "source": [
    "# get element \n",
    "element = driver.find_element(By.ID ,\"mc4wp-form-1\")\n",
    "time.sleep(3)  "
   ]
  },
  {
   "cell_type": "code",
   "execution_count": 12,
   "id": "8feaf21a",
   "metadata": {},
   "outputs": [
    {
     "name": "stdout",
     "output_type": "stream",
     "text": [
      "<selenium.webdriver.firefox.webelement.FirefoxWebElement (session=\"8341f228-d600-4c12-a82a-845574a68dfd\", element=\"2d791c60-fa24-4b73-b2ba-8daf66d8d2c8\")>\n"
     ]
    }
   ],
   "source": [
    "# print complete element\n",
    "print(element)"
   ]
  },
  {
   "cell_type": "code",
   "execution_count": 13,
   "id": "fe0f0114",
   "metadata": {},
   "outputs": [],
   "source": [
    "driver.close()  "
   ]
  },
  {
   "cell_type": "code",
   "execution_count": null,
   "id": "2be70f37",
   "metadata": {},
   "outputs": [],
   "source": []
  }
 ],
 "metadata": {
  "kernelspec": {
   "display_name": "Python 3 (ipykernel)",
   "language": "python",
   "name": "python3"
  },
  "language_info": {
   "codemirror_mode": {
    "name": "ipython",
    "version": 3
   },
   "file_extension": ".py",
   "mimetype": "text/x-python",
   "name": "python",
   "nbconvert_exporter": "python",
   "pygments_lexer": "ipython3",
   "version": "3.11.4"
  }
 },
 "nbformat": 4,
 "nbformat_minor": 5
}
