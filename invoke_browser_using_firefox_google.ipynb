{
 "cells": [
  {
   "cell_type": "code",
   "execution_count": 7,
   "id": "be1fe4f4",
   "metadata": {},
   "outputs": [],
   "source": [
    "from selenium import webdriver  \n",
    "import time  \n",
    "from selenium.webdriver.common.keys import Keys\n",
    "\n",
    "# initialize Firefox\n",
    "driver = webdriver.Firefox(executable_path='C:\\\\webdriver\\\\geckodriver.exe')\n"
   ]
  },
  {
   "cell_type": "code",
   "execution_count": 8,
   "id": "6205c59a",
   "metadata": {},
   "outputs": [],
   "source": [
    "# relevant websites\n",
    "website_1 = 'https://www.google.com/'\n",
    "website_2 = 'https://talhatraining.com/'"
   ]
  },
  {
   "cell_type": "code",
   "execution_count": 9,
   "id": "5bdaa01b",
   "metadata": {},
   "outputs": [],
   "source": [
    "# open website\n",
    "driver.get(website_1)\n",
    "\n",
    "#maximize window\n",
    "#driver.maximize_window()"
   ]
  },
  {
   "cell_type": "code",
   "execution_count": 10,
   "id": "d768c3f0",
   "metadata": {},
   "outputs": [],
   "source": [
    "driver.find_element_by_name(\"q\").send_keys(\"talhatraining\")  \n",
    "time.sleep(3)  "
   ]
  },
  {
   "cell_type": "code",
   "execution_count": 11,
   "id": "e2f1bfb1",
   "metadata": {},
   "outputs": [],
   "source": [
    "driver.find_element_by_name(\"btnK\").send_keys(Keys.ENTER)  \n",
    "time.sleep(3) "
   ]
  },
  {
   "cell_type": "code",
   "execution_count": 12,
   "id": "0ef7f488",
   "metadata": {},
   "outputs": [],
   "source": [
    "driver.close()  "
   ]
  },
  {
   "cell_type": "code",
   "execution_count": null,
   "id": "9ce7e869",
   "metadata": {},
   "outputs": [],
   "source": []
  }
 ],
 "metadata": {
  "kernelspec": {
   "display_name": "Python 3 (ipykernel)",
   "language": "python",
   "name": "python3"
  },
  "language_info": {
   "codemirror_mode": {
    "name": "ipython",
    "version": 3
   },
   "file_extension": ".py",
   "mimetype": "text/x-python",
   "name": "python",
   "nbconvert_exporter": "python",
   "pygments_lexer": "ipython3",
   "version": "3.11.4"
  }
 },
 "nbformat": 4,
 "nbformat_minor": 5
}
